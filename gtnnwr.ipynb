{
 "cells": [
  {
   "cell_type": "code",
   "execution_count": 1,
   "id": "eab77f6b-b178-4a8e-926a-0f557822caaf",
   "metadata": {},
   "outputs": [],
   "source": [
    "import os\n",
    "import sys\n",
    "import numpy as np\n",
    "import pandas as pd\n",
    "from gnnwr.datasets import init_dataset\n",
    "from gnnwr.models import GTNNWR"
   ]
  },
  {
   "cell_type": "code",
   "execution_count": 3,
   "id": "eb219445-fd2e-466e-b7c0-c7f0cb6be6c9",
   "metadata": {},
   "outputs": [
    {
     "name": "stdout",
     "output_type": "stream",
     "text": [
      "232862\n",
      "229382\n"
     ]
    }
   ],
   "source": [
    "import pandas as pd\n",
    "import numpy as np\n",
    "import geopandas as gpd\n",
    "\n",
    "data = pd.read_csv(\"/Users/cypei/Downloads/NE_glb_cities_era5_ae_rad_1213_agg.csv\") #E:\\NE_glb_cities_era5_ae_0832.csv\")\n",
    "data.columns\n",
    "print(len(data))\n",
    "\n",
    "data = data.dropna(subset=['longitude','latitude',\n",
    "    'LAI','emission', 'volumetric_soil_water_layer_1',\n",
    "    'Solar_Radiation_Flux','u_component_of_wind_10m',\n",
    "    'v_component_of_wind_10m'\n",
    "])\n",
    "print(len(data))"
   ]
  },
  {
   "cell_type": "code",
   "execution_count": 5,
   "id": "eb2291b8-fc77-42dc-8896-89c0b1de4a71",
   "metadata": {},
   "outputs": [],
   "source": [
    "data['localtime'] = data['localtime'].str.extract(r'(^\\d{4}-\\d{2}-\\d{2} \\d{2}:\\d{2}:\\d{2})')\n",
    "\n",
    "data['localtime'] = pd.to_datetime(data['localtime'])\n",
    "\n",
    "data['timestamp'] = (data['localtime'].astype('int64') // 10**9)//3600 \n",
    "\n",
    "data['timestamp'] = data['timestamp'] - data['timestamp'].min()\n"
   ]
  },
  {
   "cell_type": "code",
   "execution_count": 7,
   "id": "ba292684-fec4-4b75-b7fd-f98ce864316b",
   "metadata": {},
   "outputs": [],
   "source": [
    "# Randomly sample 1/10 of the dataset\n",
    "data = data.sample(frac=0.1, random_state=42)\n"
   ]
  },
  {
   "cell_type": "code",
   "execution_count": 27,
   "id": "9dcc8d8e-f22d-4861-a996-abea7fdc8a6e",
   "metadata": {},
   "outputs": [],
   "source": [
    "os.chdir('/Users/cypei/Downloads/gnnwr/')"
   ]
  },
  {
   "cell_type": "code",
   "execution_count": 39,
   "id": "fbd5a0f5-833f-4a11-b56b-36198957d08e",
   "metadata": {},
   "outputs": [
    {
     "ename": "TypeError",
     "evalue": "GNNWR.run() takes from 1 to 3 positional arguments but 4 were given",
     "output_type": "error",
     "traceback": [
      "\u001b[0;31m---------------------------------------------------------------------------\u001b[0m",
      "\u001b[0;31mTypeError\u001b[0m                                 Traceback (most recent call last)",
      "Cell \u001b[0;32mIn[39], line 42\u001b[0m\n\u001b[1;32m     39\u001b[0m gtnnwr\u001b[38;5;241m.\u001b[39madd_graph\n\u001b[1;32m     41\u001b[0m \u001b[38;5;66;03m#gtnnwr.run(200,10)\u001b[39;00m\n\u001b[0;32m---> 42\u001b[0m gtnnwr\u001b[38;5;241m.\u001b[39mrun(\u001b[38;5;241m500\u001b[39m,\u001b[38;5;241m80\u001b[39m,\u001b[38;5;241m10\u001b[39m)\n",
      "\u001b[0;31mTypeError\u001b[0m: GNNWR.run() takes from 1 to 3 positional arguments but 4 were given"
     ]
    }
   ],
   "source": [
    "from sklearn.preprocessing import StandardScaler\n",
    "\n",
    "data[\"id\"] = np.arange(len(data))\n",
    "\n",
    "def standardize_columns(data, columns):\n",
    "    # 使用StandardScaler进行标准化\n",
    "    scaler = StandardScaler()\n",
    "    data[columns] = scaler.fit_transform(data[columns])\n",
    "    return data, scaler\n",
    "\n",
    "# 标准化x_column中的数据\n",
    "data, scaler = standardize_columns(data, \n",
    "                                   ['LAI', 'emission', 'volumetric_soil_water_layer_1',\n",
    "                                    'Solar_Radiation_Flux', 'u_component_of_wind_10m', \n",
    "                                    'v_component_of_wind_10m'])\n",
    "\n",
    "\n",
    "\n",
    "train_dataset, val_dataset, test_dataset = init_dataset(data=data,\n",
    "                                                        test_ratio=0.15,\n",
    "                                                        valid_ratio=0.1,\n",
    "                                                        x_column=['LAI','emission', 'volumetric_soil_water_layer_1',\n",
    "                                                                  'Solar_Radiation_Flux','u_component_of_wind_10m',\n",
    "                                                                  'v_component_of_wind_10m'],\n",
    "                                                        y_column=['NE'],\n",
    "                                                        spatial_column=['longitude', 'latitude'],\n",
    "                                                        temp_column=['timestamp'],\n",
    "                                                        id_column=['id'],\n",
    "                                                        use_model=\"gtnnwr\",\n",
    "                                                        sample_seed=48,\n",
    "                                                        batch_size=256)\n",
    "optimizer_params = {\n",
    "    \"scheduler\":\"MultiStepLR\",\n",
    "    \"scheduler_milestones\":[1000, 2000, 3000, 4000],\n",
    "    \"scheduler_gamma\":0.8,\n",
    "}\n",
    "log_path = '../gtnnwr_runs'\n",
    "gtnnwr = GTNNWR(train_dataset, val_dataset, test_dataset, [[3], [2048, 512, 256, 32]],optimizer='Adam')\n",
    "gtnnwr.add_graph\n",
    "\n",
    "#gtnnwr.run(200,10)\n",
    "gtnnwr.run(500,80,10)"
   ]
  },
  {
   "cell_type": "code",
   "execution_count": 23,
   "id": "72ca018d-1f80-4746-8f8e-f04ff6683313",
   "metadata": {},
   "outputs": [
    {
     "name": "stdout",
     "output_type": "stream",
     "text": [
      "/Users/gtnnwr_logs\n"
     ]
    }
   ],
   "source": [
    "import os\n",
    "\n",
    "# 获取相对路径的完整路径\n",
    "log_dir = os.path.abspath('../gtnnwr_logs')\n",
    "print(log_dir)"
   ]
  },
  {
   "cell_type": "code",
   "execution_count": null,
   "id": "a6899d36-8347-4964-b58f-76c0503f1cff",
   "metadata": {},
   "outputs": [],
   "source": [
    "gtnnwr.result()"
   ]
  },
  {
   "cell_type": "code",
   "execution_count": null,
   "id": "7efdb4b6-bea5-4a19-b1c5-4d432fce040a",
   "metadata": {},
   "outputs": [],
   "source": [
    "gtnnwr.reg_result('./gtnnwr_result.csv')"
   ]
  }
 ],
 "metadata": {
  "kernelspec": {
   "display_name": "Python 3 (ipykernel)",
   "language": "python",
   "name": "python3"
  },
  "language_info": {
   "codemirror_mode": {
    "name": "ipython",
    "version": 3
   },
   "file_extension": ".py",
   "mimetype": "text/x-python",
   "name": "python",
   "nbconvert_exporter": "python",
   "pygments_lexer": "ipython3",
   "version": "3.12.4"
  }
 },
 "nbformat": 4,
 "nbformat_minor": 5
}
